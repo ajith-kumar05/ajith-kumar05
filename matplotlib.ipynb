{
  "nbformat": 4,
  "nbformat_minor": 0,
  "metadata": {
    "colab": {
      "name": "matplotlib.ipynb",
      "provenance": [],
      "collapsed_sections": [],
      "include_colab_link": true
    },
    "kernelspec": {
      "name": "python3",
      "display_name": "Python 3"
    },
    "language_info": {
      "name": "python"
    }
  },
  "cells": [
    {
      "cell_type": "markdown",
      "metadata": {
        "id": "view-in-github",
        "colab_type": "text"
      },
      "source": [
        "<a href=\"https://colab.research.google.com/github/ajith-kumar05/matplotlib/blob/main/matplotlib.ipynb\" target=\"_parent\"><img src=\"https://colab.research.google.com/assets/colab-badge.svg\" alt=\"Open In Colab\"/></a>"
      ]
    },
    {
      "cell_type": "code",
      "execution_count": null,
      "metadata": {
        "id": "nIM4WbFojMHa"
      },
      "outputs": [],
      "source": [
        "from matplotlib import pyplot as plt\n",
        "plt.plot([1,7,3],[2,5,1])\n",
        "#plt.show()"
      ]
    },
    {
      "cell_type": "code",
      "source": [
        "#  adding title and x and y axis to u r graph\n",
        "\n",
        "from matplotlib import pyplot as plt\n",
        "x=[1,2,3]\n",
        "y=[8,8,5]\n",
        "plt.plot(x,y)\n",
        "plt.title(\"FINANCE\")\n",
        "plt.xlabel(\"Amount\")\n",
        "plt.ylabel(\"years\")\n",
        "plt.show()"
      ],
      "metadata": {
        "id": "CMNu1S19j9pA"
      },
      "execution_count": null,
      "outputs": []
    },
    {
      "cell_type": "code",
      "source": [
        "#   to add style to your graph\n",
        "\n",
        "from matplotlib import pyplot as plt\n",
        "from matplotlib import style\n",
        "style.use(\"ggplot\")\n",
        "x=[1,7,9]\n",
        "y=[6,3,5]\n",
        "x1=[9,7,3]\n",
        "y1=[1,8,4]\n",
        "plt.plot(x,y,'g',label='curve 1',linewidth=4)\n",
        "plt.plot(x1,y1,'c',label='curve 2',linewidth=2)\n",
        "plt.title(\"Colored graph\")\n",
        "plt.xlabel(\"x asis\")\n",
        "plt.ylabel(\"y axis\")\n",
        "\n",
        "plt.legend()\n",
        "\n",
        "plt.grid(True,color='k')\n",
        "plt.show()\n"
      ],
      "metadata": {
        "id": "2gqBBmv8kB0b"
      },
      "execution_count": null,
      "outputs": []
    },
    {
      "cell_type": "code",
      "source": [
        "plt.style.available"
      ],
      "metadata": {
        "id": "mJXGe7P79JXS"
      },
      "execution_count": null,
      "outputs": []
    },
    {
      "cell_type": "code",
      "source": [
        "from matplotlib import pyplot as plt\n",
        "from matplotlib import style\n",
        "x=[10,20,90,60]\n",
        "y=[60,30,50,10]\n",
        "x1=[15,35,70,45]\n",
        "y1=[100,10,60,80]\n",
        "plt.bar(x,y,color='g',label='length')\n",
        "plt.bar(x1,y1,color='c',label='width')\n",
        "plt.title(\"bar grapgh\")\n",
        "plt.xlabel(\"x axis\")\n",
        "plt.ylabel(\"y axis\")\n",
        "plt.legend()\n",
        "plt.show()"
      ],
      "metadata": {
        "id": "QJDxYuVpkLUz"
      },
      "execution_count": null,
      "outputs": []
    },
    {
      "cell_type": "code",
      "source": [
        "# matplotlib. colors\n",
        "# b: blue.\n",
        "# g: green.\n",
        "# r: red.\n",
        "# c: cyan.\n",
        "# m: magenta.\n",
        "# y: yellow.\n",
        "# k: black.\n",
        "# w: white."
      ],
      "metadata": {
        "id": "-cs1AEgo-nQ4"
      },
      "execution_count": null,
      "outputs": []
    },
    {
      "cell_type": "code",
      "source": [
        "import matplotlib.pyplot as plt\n",
        "\n",
        "ages=[22,55,62,45,21,22,34,42,42,4,99,102,110,120,121,122,130,111,115,112,80,75,65,54,44,43,42,48]\n",
        "\n",
        "ranges=[0,10,20,30,40,50,60,70,80,90,100,110,120,130]\n",
        "\n",
        "plt.hist(ages, ranges, histtype='bar',rwidth=0.6,label='hist')\n",
        "\n",
        "plt.xlabel('x-axis')\n",
        "plt.ylabel('y-axis')\n",
        "plt.title('Histogram')\n",
        "plt.legend()\n",
        "plt.show()\n",
        "\n",
        "# histtype='stepfilled'\n",
        "# histtype='step'\n",
        "# histtype='barstacked'\n",
        "# histtype='bar'\n",
        "\n",
        "# plt.legend(loc =\"upper left\")"
      ],
      "metadata": {
        "id": "AQXtvpzlkOVf"
      },
      "execution_count": null,
      "outputs": []
    },
    {
      "cell_type": "code",
      "source": [
        "import matplotlib.pyplot as plt\n",
        "x=[1,2,3,4,5,6,7,8]\n",
        "y=[5,2,4,2,1,4,5,2]\n",
        "plt.scatter(x, y,label='ratio',color='k')\n",
        "\n",
        "plt.xlabel('x-axis')\n",
        "plt.ylabel('y-axis')\n",
        "plt.title('Scatter Plot')\n",
        "plt.legend()\n",
        "plt.show()"
      ],
      "metadata": {
        "id": "xIwMNetWkSvE"
      },
      "execution_count": null,
      "outputs": []
    },
    {
      "cell_type": "code",
      "source": [
        "import matplotlib.pyplot as plt\n",
        "days=[1,2,3,4,5]\n",
        "sleeping=[7,8,6,11,7]\n",
        "eating=[2,3,4,3,2]\n",
        "working=[7,8,7,2,2]\n",
        "playing=[8,5,7,8,13]\n",
        "\n",
        "plt.plot([],[],color='m',label='Sleep',linewidth=5)\n",
        "plt.plot([],[],color='c',label='Eat',linewidth=5)\n",
        "plt.plot([],[],color='r',label='Work',linewidth=5)\n",
        "plt.plot([],[],color='k',label='Play',linewidth=5)\n",
        "plt.stackplot(days, sleeping, eating, working, playing, colors=['m','c','r','k']) \n",
        "\n",
        "plt.xlabel('x-axis')\n",
        "plt.ylabel('y-axis')\n",
        "plt.title('Stack Plot')\n",
        "plt.legend()\n",
        "plt.show()"
      ],
      "metadata": {
        "id": "AzoALzfIkWS2"
      },
      "execution_count": null,
      "outputs": []
    },
    {
      "cell_type": "code",
      "source": [
        "import matplotlib.pyplot as plt\n",
        "slices=[7,2,2,13]\n",
        "activities=['sleeping','eating','working','playing']\n",
        "cols=['c','m','r','b']\n",
        "plt.pie(slices,\n",
        "\tlabels=activities,\n",
        "\tcolors=cols,\n",
        "\tstartangle=90,\n",
        "\tshadow=True,\n",
        "\texplode=(0.1,0,0,0),\n",
        "\tautopct='%1.1f%%') \n",
        "\n",
        "plt.xlabel('x-axis')\n",
        "plt.ylabel('y-axis')\n",
        "plt.title('Pie Plot')\n",
        "plt.show()"
      ],
      "metadata": {
        "id": "RdZ2E6wCkaOH"
      },
      "execution_count": null,
      "outputs": []
    },
    {
      "cell_type": "code",
      "source": [
        "import numpy as np\n",
        "import matplotlib.pyplot as plt\n",
        "\n",
        "def fun(t):\n",
        "\treturn np.exp(-t)*np.cos(2*np.pi*t)\n",
        "\n",
        "t1=np.arange(0.0,5.0,0.1)\n",
        "t2=np.arange(0.0,5.0,0.02)\n",
        "\n",
        "plt.subplot(211)\n",
        "plt.plot(t1,fun(t1),'bo',t2,fun(t2))\n",
        "\n",
        "plt.subplot(212)\n",
        "plt.plot(t2,np.cos(2*np.pi*t2))\n",
        "plt.show()"
      ],
      "metadata": {
        "id": "ngvCrIt-kg7h"
      },
      "execution_count": null,
      "outputs": []
    },
    {
      "cell_type": "code",
      "source": [
        "import numpy as np\n",
        "import matplotlib.pyplot as plt\n",
        "\n",
        "\n",
        "#fig = plt.figure()\n",
        "ax = plt.axes(projection ='3d')\n"
      ],
      "metadata": {
        "id": "LoTTCylnJ-EG"
      },
      "execution_count": null,
      "outputs": []
    },
    {
      "cell_type": "code",
      "source": [
        "type(ax)"
      ],
      "metadata": {
        "id": "v-hd5ajzmo6N"
      },
      "execution_count": null,
      "outputs": []
    },
    {
      "cell_type": "code",
      "source": [
        ""
      ],
      "metadata": {
        "id": "6ovLABhSoZyD"
      },
      "execution_count": null,
      "outputs": []
    },
    {
      "cell_type": "code",
      "source": [
        "# importing mplot3d toolkits, numpy and matplotlib\n",
        "from mpl_toolkits import mplot3d\n",
        "import numpy as np\n",
        "import matplotlib.pyplot as plt\n",
        "\n",
        "#fig = plt.figure()\n",
        "\n",
        "# syntax for 3-D projection\n",
        "ax = plt.axes(projection ='3d')\n",
        "\n",
        "# defining all 3 axes\n",
        "z = np.linspace(0, 1, 100)\n",
        "x = z * np.sin(25 * z)\n",
        "y = z * np.cos(25 * z)\n",
        "\n",
        "# plotting\n",
        "ax.plot3D(x, y, z, 'green',  lw=2)\n",
        "ax.set_title('3D line plot')\n",
        "plt.show()\n"
      ],
      "metadata": {
        "id": "P_jFUZQPKBIf"
      },
      "execution_count": null,
      "outputs": []
    },
    {
      "cell_type": "code",
      "source": [
        "# importing mplot3d toolkits\n",
        "from mpl_toolkits import mplot3d\n",
        "import numpy as np\n",
        "import matplotlib.pyplot as plt\n",
        "\n",
        "fig = plt.figure()\n",
        "\n",
        "# syntax for 3-D projection\n",
        "ax = plt.axes(projection ='3d')\n",
        "\n",
        "# defining axes\n",
        "z = np.linspace(0, 1, 100)\n",
        "x = z * np.sin(25 * z)\n",
        "y = z * np.cos(25 * z)\n",
        "c = x + y\n",
        "ax.scatter(x, y, z , c = c,s=10 )#size\n",
        "\n",
        "# syntax for plotting\n",
        "ax.set_title('3d Scatter plot')\n",
        "plt.show()\n"
      ],
      "metadata": {
        "id": "-MF_CS9OKPhO"
      },
      "execution_count": null,
      "outputs": []
    },
    {
      "cell_type": "code",
      "source": [
        "# importing libraries\n",
        "from mpl_toolkits import mplot3d\n",
        "import numpy as np\n",
        "import matplotlib.pyplot as plt\n",
        "\n",
        "# defining surface and axes\n",
        "x = np.outer(np.linspace(-2, 2, 10), np.ones(10))\n",
        "y = x.copy().T\n",
        "z = np.cos(x ** 2 + y ** 3)\n",
        "\n",
        "fig = plt.figure()\n",
        "\n",
        "# syntax for 3-D plotting\n",
        "ax = plt.axes(projection ='3d')\n",
        "\n",
        "# syntax for plotting\n",
        "ax.plot_surface(x, y, z, cmap ='ocean', edgecolor ='red')\n",
        "ax.set_title('Surface plot')\n",
        "plt.show()\n"
      ],
      "metadata": {
        "id": "aO3fzCz5KSm-"
      },
      "execution_count": null,
      "outputs": []
    },
    {
      "cell_type": "code",
      "source": [
        "from mpl_toolkits import mplot3d\n",
        "import numpy as np\n",
        "import matplotlib.pyplot as plt\n",
        "\n",
        "\n",
        "# function for z axea\n",
        "def f(x, y):\n",
        "\treturn np.sin(np.sqrt(x ** 2 + y ** 2))\n",
        "\n",
        "# x and y axis\n",
        "x = np.linspace(-1, 5, 30)\n",
        "y = np.linspace(-1, 5, 30)\n",
        "\n",
        "X, Y = np.meshgrid(x, y)\n",
        "Z = f(X, Y)\n",
        "\n",
        "#fig = plt.figure()\n",
        "ax = plt.axes(projection ='3d')\n",
        "ax.plot_wireframe(X, Y, Z, color ='green')\n",
        "ax.set_title('wireframe');\n"
      ],
      "metadata": {
        "id": "RhPQ0TVHKf99"
      },
      "execution_count": null,
      "outputs": []
    },
    {
      "cell_type": "code",
      "source": [
        "X\n"
      ],
      "metadata": {
        "id": "6aTSTFjysRau"
      },
      "execution_count": null,
      "outputs": []
    },
    {
      "cell_type": "code",
      "source": [
        "X.shape"
      ],
      "metadata": {
        "id": "Z_dFN4sds_rU"
      },
      "execution_count": null,
      "outputs": []
    },
    {
      "cell_type": "code",
      "source": [
        "plt.scatter(X,Y)"
      ],
      "metadata": {
        "id": "vPcuv6WEtHiA"
      },
      "execution_count": null,
      "outputs": []
    },
    {
      "cell_type": "code",
      "source": [
        "Z.shape"
      ],
      "metadata": {
        "id": "59CAhtfluBh1",
        "colab": {
          "base_uri": "https://localhost:8080/"
        },
        "outputId": "d3b59e05-34f9-4d39-f2c0-41bb9af22a2b"
      },
      "execution_count": null,
      "outputs": [
        {
          "output_type": "execute_result",
          "data": {
            "text/plain": [
              "(50, 50)"
            ]
          },
          "metadata": {},
          "execution_count": 23
        }
      ]
    },
    {
      "cell_type": "code",
      "source": [
        "from mpl_toolkits import mplot3d\n",
        "import numpy as np\n",
        "import matplotlib.pyplot as plt\n",
        "\n",
        "\n",
        "# function for z axis\n",
        "def f(x, y):\n",
        "\treturn np.sin(np.sqrt(x ** 2 + y ** 3))\n",
        "\n",
        "# x and y axis\n",
        "x = np.linspace(-1, 5, 10)\n",
        "y = np.linspace(-1, 5, 10)\n",
        "X, Y = np.meshgrid(x, y)\n",
        "Z = f(X, Y)\n",
        "\n",
        "fig = plt.figure()\n",
        "ax = plt.axes(projection ='3d')\n",
        "\n",
        "# ax.contour3D is used plot a contour graphs\n",
        "ax.contour3D(X, Y, Z , 50)\n"
      ],
      "metadata": {
        "id": "9JLDtWEOK4G2"
      },
      "execution_count": null,
      "outputs": []
    },
    {
      "cell_type": "code",
      "source": [
        "def f(x, y):\n",
        "    return np.sin(np.sqrt(x ** 2 + y ** 2))\n",
        "\n",
        "x = np.linspace(-6, 6, 30)\n",
        "y = np.linspace(-6, 6, 30)\n",
        "\n",
        "X, Y = np.meshgrid(x, y)\n",
        "Z = f(X, Y)\n",
        "fig = plt.figure()\n",
        "ax = plt.axes(projection='3d')\n",
        "ax.contour3D(X, Y, Z , 50 ,cmap='binary')\n",
        "ax.set_xlabel('x')\n",
        "ax.set_ylabel('y')\n",
        "ax.set_zlabel('z');"
      ],
      "metadata": {
        "id": "qLJ6JpJsK7lb"
      },
      "execution_count": null,
      "outputs": []
    },
    {
      "cell_type": "code",
      "source": [
        "def f(x, y):\n",
        "    return np.sin(np.sqrt(x ** 2 + y ** 2))\n",
        "\n",
        "x = np.linspace(-6, 6, 30)\n",
        "y = np.linspace(-6, 6, 30)\n",
        "\n",
        "X, Y = np.meshgrid(x, y)\n",
        "Z = f(X, Y)\n",
        "#fig = plt.figure()\n",
        "\n",
        "plt.contour(X,Y,Z)\n",
        "plt.show()\n"
      ],
      "metadata": {
        "id": "UqGJoCb9QCwV"
      },
      "execution_count": null,
      "outputs": []
    },
    {
      "cell_type": "code",
      "source": [
        "ax.view_init(30, 35)\n",
        "fig"
      ],
      "metadata": {
        "id": "MC6tlYLULYFF"
      },
      "execution_count": null,
      "outputs": []
    },
    {
      "cell_type": "code",
      "source": [
        "from ipywidgets import interactive\n",
        "def plotter(E,A):\n",
        "  fig = plt.figure()\n",
        "  ax = plt.axes(projection='3d')\n",
        "  ax.plot_surface(X,Y,Z )\n",
        "  ax.view_init(elev=E,azim=A)\n",
        "  ax.set_xlabel('x')\n",
        "  ax.set_ylabel('y')\n",
        "  ax.set_zlabel('z')\n",
        "  fig\n",
        "iplot=interactive(plotter,\n",
        "                  E=(-90,10,5),\n",
        "                  A=(-90,90,5))\n",
        "iplot"
      ],
      "metadata": {
        "id": "xytj2lHFSNoU"
      },
      "execution_count": null,
      "outputs": []
    },
    {
      "cell_type": "code",
      "source": [
        "import numpy as np\n",
        "import matplotlib.pyplot as plt\n",
        "from ipywidgets import interactive\n",
        "\n",
        "t=np.arange(0,5,0.01) #times from 0 to 5 by steps of size 0.1\n",
        "\n",
        "def plotter(timestep):\n",
        "  y = 3 - np.exp(t[:timestep]/2)\n",
        "  plt.plot(t[:timestep],y)\n",
        "  plt.grid()\n",
        "  plt.xlim(0,5)\n",
        "  plt.ylim(-10,3)\n",
        "  plt.show()\n",
        "\n",
        "iplot=interactive(plotter,timestep=(1,len(t)))\n",
        "iplot  \n",
        "\n",
        "  "
      ],
      "metadata": {
        "id": "vjvSl6n94tnC"
      },
      "execution_count": null,
      "outputs": []
    },
    {
      "cell_type": "code",
      "source": [
        "#fig = plt.figure()\n",
        "ax = plt.axes(projection='3d')\n",
        "ax.plot_wireframe(X, Y, Z, color='hotpink')\n",
        "ax.set_title('wireframe');"
      ],
      "metadata": {
        "id": "HW2P23olLkuc"
      },
      "execution_count": null,
      "outputs": []
    },
    {
      "cell_type": "code",
      "source": [
        "ax = plt.axes(projection='3d')\n",
        "ax.plot_surface(X, Y, Z, rstride=1, cstride=1,\n",
        "                cmap='viridis', edgecolor='none')\n",
        "ax.set_title('surface');\n"
      ],
      "metadata": {
        "id": "VOGkYN4oLsoH"
      },
      "execution_count": null,
      "outputs": []
    },
    {
      "cell_type": "code",
      "source": [
        "theta = 2 * np.pi * np.random.random(1000)\n",
        "r = 6 * np.random.random(1000)\n",
        "x = np.ravel(r * np.sin(theta))\n",
        "y = np.ravel(r * np.cos(theta))\n",
        "z = f(x, y)\n",
        "\n",
        "ax = plt.axes(projection='3d')\n",
        "ax.scatter(x, y, z, c=z, cmap='viridis', linewidth=0.5);\n"
      ],
      "metadata": {
        "id": "EahzIiA7MNDh"
      },
      "execution_count": null,
      "outputs": []
    },
    {
      "cell_type": "code",
      "source": [
        "ax = plt.axes(projection='3d')\n",
        "ax.plot_trisurf(x, y, z,\n",
        "                cmap='viridis', edgecolor='none');"
      ],
      "metadata": {
        "id": "0rTb4oTDMijy"
      },
      "execution_count": null,
      "outputs": []
    },
    {
      "cell_type": "code",
      "source": [
        "##Visualizing a Möbius strip"
      ],
      "metadata": {
        "id": "tdtWIxb9NqOx"
      },
      "execution_count": null,
      "outputs": []
    },
    {
      "cell_type": "code",
      "source": [
        "theta = np.linspace(0, 2 * np.pi, 30)\n",
        "w = np.linspace(-0.25, 0.25, 8)\n",
        "w, theta = np.meshgrid(w, theta)\n"
      ],
      "metadata": {
        "id": "0B1qZtJodrPq"
      },
      "execution_count": null,
      "outputs": []
    },
    {
      "cell_type": "code",
      "source": [
        "phi = 0.5 * theta\n"
      ],
      "metadata": {
        "id": "YeClg5Wjd7v9"
      },
      "execution_count": null,
      "outputs": []
    },
    {
      "cell_type": "code",
      "source": [
        "# radius in x-y plane\n",
        "r = 1 + w * np.cos(phi)\n",
        "\n",
        "x = np.ravel(r * np.cos(theta))\n",
        "y = np.ravel(r * np.sin(theta))\n",
        "z = np.ravel(w * np.sin(phi))\n"
      ],
      "metadata": {
        "id": "pJ-MknW3eANM"
      },
      "execution_count": null,
      "outputs": []
    },
    {
      "cell_type": "code",
      "source": [
        "# triangulate in the underlying parametrization\n",
        "from matplotlib.tri import Triangulation\n",
        "tri = Triangulation(np.ravel(w), np.ravel(theta))\n",
        "\n",
        "ax = plt.axes(projection='3d')\n",
        "ax.plot_trisurf(x, y, z, \n",
        "                cmap='viridis', linewidths=0.2); #triangle connectivity matrix T\n",
        "\n",
        "ax.set_xlim(-1, 1); ax.set_ylim(-1, 1); ax.set_zlim(-1, 1);\n"
      ],
      "metadata": {
        "id": "Y24OQ2lreHCX"
      },
      "execution_count": null,
      "outputs": []
    }
  ]
}